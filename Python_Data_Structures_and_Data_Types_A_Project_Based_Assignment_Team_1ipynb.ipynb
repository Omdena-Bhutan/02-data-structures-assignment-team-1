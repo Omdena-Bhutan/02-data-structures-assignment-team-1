{
  "nbformat": 4,
  "nbformat_minor": 0,
  "metadata": {
    "colab": {
      "provenance": [],
      "include_colab_link": true
    },
    "kernelspec": {
      "name": "python3",
      "display_name": "Python 3"
    },
    "language_info": {
      "name": "python"
    }
  },
  "cells": [
    {
      "cell_type": "markdown",
      "metadata": {
        "id": "view-in-github",
        "colab_type": "text"
      },
      "source": [
        "<a href=\"https://colab.research.google.com/github/Omdena-Bhutan/02-data-structures-assignment-team-1/blob/main/Python_Data_Structures_and_Data_Types_A_Project_Based_Assignment_Team_1ipynb.ipynb\" target=\"_parent\"><img src=\"https://colab.research.google.com/assets/colab-badge.svg\" alt=\"Open In Colab\"/></a>"
      ]
    },
    {
      "cell_type": "markdown",
      "source": [
        "Fantasy Quest Inventory Management System"
      ],
      "metadata": {
        "id": "5jPaA6FJmgcy"
      }
    },
    {
      "cell_type": "markdown",
      "source": [
        "#Dictionaries"
      ],
      "metadata": {
        "id": "bBQ2RC29nV57"
      }
    },
    {
      "cell_type": "code",
      "execution_count": null,
      "metadata": {
        "colab": {
          "base_uri": "https://localhost:8080/",
          "height": 126
        },
        "id": "N1EytNEQaxaR",
        "outputId": "730d7b50-2141-4c72-a091-dbbec0cea996"
      },
      "outputs": [
        {
          "output_type": "display_data",
          "data": {
            "text/plain": [
              "{'name': 'Alistair the Brave',\n",
              " 'level': 1,\n",
              " 'health': 100,\n",
              " 'mana': 50,\n",
              " 'gold': 50.75,\n",
              " 'is_alive': True}"
            ]
          },
          "metadata": {}
        }
      ],
      "source": [
        "#Character Profile (Using Dictionaries and Basic Types)\n",
        "character_profile = {'name': \"Alistair the Brave\", 'level': 1, 'health': 100, 'mana': 50, 'gold' : 50.75, 'is_alive' : True}\n",
        "display(character_profile)"
      ]
    },
    {
      "cell_type": "code",
      "metadata": {
        "colab": {
          "base_uri": "https://localhost:8080/",
          "height": 163
        },
        "id": "bcdf1597",
        "outputId": "9c6f94bb-2b05-45b7-c664-51c232278585"
      },
      "source": [
        "#Tasks:\n",
        "print(f\"character Name: {character_profile['name']}, Level: {character_profile['level']}\")\n",
        "character_profile['health'] = 85\n",
        "character_profile['experience'] = 0\n",
        "display(character_profile)"
      ],
      "execution_count": null,
      "outputs": [
        {
          "output_type": "stream",
          "name": "stdout",
          "text": [
            "character Name: Alistair the Brave, Level: 1\n"
          ]
        },
        {
          "output_type": "display_data",
          "data": {
            "text/plain": [
              "{'name': 'Alistair the Brave',\n",
              " 'level': 1,\n",
              " 'health': 85,\n",
              " 'mana': 50,\n",
              " 'gold': 50.75,\n",
              " 'is_alive': True,\n",
              " 'experience': 0}"
            ]
          },
          "metadata": {}
        }
      ]
    },
    {
      "cell_type": "markdown",
      "source": [
        "#Lists"
      ],
      "metadata": {
        "id": "2kLYPuUC0lSa"
      }
    },
    {
      "cell_type": "code",
      "source": [
        "#Part 2: Inventory System (Using Lists)\n",
        "inventory = ['sword', 'shield', 'health', 'potion']\n",
        "display(inventory)"
      ],
      "metadata": {
        "colab": {
          "base_uri": "https://localhost:8080/",
          "height": 35
        },
        "id": "RUX0dxW2qE9o",
        "outputId": "6802b8f9-740c-4918-9449-4b4360fee3f8"
      },
      "execution_count": null,
      "outputs": [
        {
          "output_type": "display_data",
          "data": {
            "text/plain": [
              "['sword', 'shield', 'health', 'potion']"
            ]
          },
          "metadata": {}
        }
      ]
    },
    {
      "cell_type": "code",
      "source": [
        "inventory.append('mana potion')\n",
        "display(inventory)"
      ],
      "metadata": {
        "colab": {
          "base_uri": "https://localhost:8080/",
          "height": 35
        },
        "id": "antrBrI4qxTG",
        "outputId": "899d6c96-02ba-4f37-e4df-520414d85c6b"
      },
      "execution_count": null,
      "outputs": [
        {
          "output_type": "display_data",
          "data": {
            "text/plain": [
              "['sword', 'shield', 'health', 'potion', 'mana potion']"
            ]
          },
          "metadata": {}
        }
      ]
    },
    {
      "cell_type": "code",
      "source": [
        "inventory.remove('shield')\n",
        "display(inventory)"
      ],
      "metadata": {
        "colab": {
          "base_uri": "https://localhost:8080/",
          "height": 35
        },
        "id": "uS8q3Fctq6qC",
        "outputId": "c0da3b6b-13e0-4c94-c38b-f221bdd9ef24"
      },
      "execution_count": null,
      "outputs": [
        {
          "output_type": "display_data",
          "data": {
            "text/plain": [
              "['sword', 'health', 'potion', 'mana potion']"
            ]
          },
          "metadata": {}
        }
      ]
    },
    {
      "cell_type": "code",
      "source": [
        "print(\"inventory items:\")\n",
        "for item in inventory:\n",
        "    print(item)"
      ],
      "metadata": {
        "colab": {
          "base_uri": "https://localhost:8080/"
        },
        "id": "FV05954UrFhd",
        "outputId": "ac9c4695-f912-4f3c-b32a-a5bfbbe1c1d0"
      },
      "execution_count": null,
      "outputs": [
        {
          "output_type": "stream",
          "name": "stdout",
          "text": [
            "inventory items:\n",
            "sword\n",
            "health\n",
            "potion\n",
            "mana potion\n"
          ]
        }
      ]
    },
    {
      "cell_type": "markdown",
      "source": [
        "#Tuples"
      ],
      "metadata": {
        "id": "wPTu-s290nF_"
      }
    },
    {
      "cell_type": "code",
      "source": [
        "# Part 3: Character Stats (Using Tuples)\n",
        "base_stats = (10, 8, 12)\n",
        "display(base_stats)"
      ],
      "metadata": {
        "colab": {
          "base_uri": "https://localhost:8080/",
          "height": 35
        },
        "id": "NxdZwIFkrk0H",
        "outputId": "a948e66a-1eed-45db-a922-59006f981183"
      },
      "execution_count": null,
      "outputs": [
        {
          "output_type": "display_data",
          "data": {
            "text/plain": [
              "(10, 8, 12)"
            ]
          },
          "metadata": {}
        }
      ]
    },
    {
      "cell_type": "code",
      "source": [
        "print(\"Tuples are a good choice for base stats because they are ordered, immutable and won't change.\")"
      ],
      "metadata": {
        "colab": {
          "base_uri": "https://localhost:8080/"
        },
        "id": "bu39bdUnr9oa",
        "outputId": "22944d25-7a0a-41c3-e243-af7e39c2ce11"
      },
      "execution_count": null,
      "outputs": [
        {
          "output_type": "stream",
          "name": "stdout",
          "text": [
            "Tuples are a good choice for base stats because they are ordered, immutable and won't change.\n"
          ]
        }
      ]
    },
    {
      "cell_type": "code",
      "source": [
        "print(f\"Alistair's base intelligence is: {base_stats[2]}\")\n"
      ],
      "metadata": {
        "colab": {
          "base_uri": "https://localhost:8080/"
        },
        "id": "Rj5J2QYrsN9s",
        "outputId": "93ec9311-c421-4060-9a23-330b6a130e63"
      },
      "execution_count": null,
      "outputs": [
        {
          "output_type": "stream",
          "name": "stdout",
          "text": [
            "Alistair's base intelligence is: 12\n"
          ]
        }
      ]
    },
    {
      "cell_type": "code",
      "source": [
        "base_stats [0] = 5"
      ],
      "metadata": {
        "colab": {
          "base_uri": "https://localhost:8080/",
          "height": 146
        },
        "id": "Cc6b4cX8sfvh",
        "outputId": "20fc6abc-7473-4500-9cad-fc3db179153c"
      },
      "execution_count": null,
      "outputs": [
        {
          "output_type": "error",
          "ename": "TypeError",
          "evalue": "'tuple' object does not support item assignment",
          "traceback": [
            "\u001b[0;31m---------------------------------------------------------------------------\u001b[0m",
            "\u001b[0;31mTypeError\u001b[0m                                 Traceback (most recent call last)",
            "\u001b[0;32m/tmp/ipython-input-2219511789.py\u001b[0m in \u001b[0;36m<cell line: 0>\u001b[0;34m()\u001b[0m\n\u001b[0;32m----> 1\u001b[0;31m \u001b[0mbase_stats\u001b[0m \u001b[0;34m[\u001b[0m\u001b[0;36m0\u001b[0m\u001b[0;34m]\u001b[0m \u001b[0;34m=\u001b[0m \u001b[0;36m5\u001b[0m\u001b[0;34m\u001b[0m\u001b[0;34m\u001b[0m\u001b[0m\n\u001b[0m",
            "\u001b[0;31mTypeError\u001b[0m: 'tuple' object does not support item assignment"
          ]
        }
      ]
    },
    {
      "cell_type": "markdown",
      "source": [
        "The reason I got the Typeerror was because tuples are immutable and their elements cannot be changed after creation.  "
      ],
      "metadata": {
        "id": "vSJYkViftUmT"
      }
    },
    {
      "cell_type": "markdown",
      "source": [
        "#Sets"
      ],
      "metadata": {
        "id": "Rpj1HJmK0pxG"
      }
    },
    {
      "cell_type": "code",
      "source": [
        "#Part 4: Quest Log (Using Sets)\n",
        "quest_log = {'Defeat the Goblin King', 'Find the Lost Amulet'}\n",
        "display(quest_log)"
      ],
      "metadata": {
        "colab": {
          "base_uri": "https://localhost:8080/",
          "height": 35
        },
        "id": "LijQdUFNp6xR",
        "outputId": "93ab16f6-cc45-4255-8c48-212d378dff60"
      },
      "execution_count": null,
      "outputs": [
        {
          "output_type": "display_data",
          "data": {
            "text/plain": [
              "{'Defeat the Goblin King', 'Find the Lost Amulet'}"
            ]
          },
          "metadata": {}
        }
      ]
    },
    {
      "cell_type": "code",
      "source": [
        "quest_log.add('Deliver the Old Scroll')\n",
        "display(quest_log)"
      ],
      "metadata": {
        "colab": {
          "base_uri": "https://localhost:8080/",
          "height": 35
        },
        "id": "5Mmg7QXKutKt",
        "outputId": "5828443f-ac40-49f2-97e2-2d3e58dbd865"
      },
      "execution_count": null,
      "outputs": [
        {
          "output_type": "display_data",
          "data": {
            "text/plain": [
              "{'Defeat the Goblin King', 'Deliver the Old Scroll', 'Find the Lost Amulet'}"
            ]
          },
          "metadata": {}
        }
      ]
    },
    {
      "cell_type": "code",
      "source": [
        "quest_log.add('Defeat the Goblin King')\n",
        "display(quest_log)"
      ],
      "metadata": {
        "colab": {
          "base_uri": "https://localhost:8080/",
          "height": 35
        },
        "id": "9bbn9SCFu8Lw",
        "outputId": "a0b647ca-0e68-44da-da80-43f742cf386b"
      },
      "execution_count": null,
      "outputs": [
        {
          "output_type": "display_data",
          "data": {
            "text/plain": [
              "{'Defeat the Goblin King', 'Deliver the Old Scroll', 'Find the Lost Amulet'}"
            ]
          },
          "metadata": {}
        }
      ]
    },
    {
      "cell_type": "code",
      "source": [
        "quest_log.remove('Find the Lost Amulet')\n",
        "display(quest_log)"
      ],
      "metadata": {
        "colab": {
          "base_uri": "https://localhost:8080/",
          "height": 35
        },
        "id": "KUc-14xRvMdc",
        "outputId": "977cdb7d-69cb-4706-9806-203e174032a6"
      },
      "execution_count": null,
      "outputs": [
        {
          "output_type": "display_data",
          "data": {
            "text/plain": [
              "{'Defeat the Goblin King', 'Deliver the Old Scroll'}"
            ]
          },
          "metadata": {}
        }
      ]
    },
    {
      "cell_type": "code",
      "source": [
        "print(\"Final Quest Log:\")\n",
        "display(quest_log)"
      ],
      "metadata": {
        "colab": {
          "base_uri": "https://localhost:8080/",
          "height": 53
        },
        "id": "LXPwR1-ovaYS",
        "outputId": "adc9437b-45ba-4f0f-a8d2-bef88d071e32"
      },
      "execution_count": null,
      "outputs": [
        {
          "output_type": "stream",
          "name": "stdout",
          "text": [
            "Final Quest Log:\n"
          ]
        },
        {
          "output_type": "display_data",
          "data": {
            "text/plain": [
              "{'Defeat the Goblin King', 'Deliver the Old Scroll'}"
            ]
          },
          "metadata": {}
        }
      ]
    },
    {
      "cell_type": "code",
      "source": [
        "#Part 5: Putting it all together\n",
        "character_sheet = {}\n",
        "character_sheet['profile'] = character_profile\n",
        "character_sheet['inventory'] = inventory\n",
        "character_sheet['stats'] = base_stats\n",
        "character_sheet['quests'] = quest_log\n",
        "display(character_sheet)"
      ],
      "metadata": {
        "colab": {
          "base_uri": "https://localhost:8080/",
          "height": 199
        },
        "id": "iqNLFG10x9Fm",
        "outputId": "cbf7a116-7c2e-408b-9a6b-8ca76cad21d2"
      },
      "execution_count": null,
      "outputs": [
        {
          "output_type": "display_data",
          "data": {
            "text/plain": [
              "{'profile': {'name': 'Alistair the Brave',\n",
              "  'level': 1,\n",
              "  'health': 85,\n",
              "  'mana': 50,\n",
              "  'gold': 50.75,\n",
              "  'is_alive': True,\n",
              "  'experience': 0},\n",
              " 'inventory': ['sword', 'health', 'potion', 'mana potion'],\n",
              " 'stats': (10, 8, 12),\n",
              " 'quests': {'Defeat the Goblin King', 'Deliver the Old Scroll'}}"
            ]
          },
          "metadata": {}
        }
      ]
    },
    {
      "cell_type": "code",
      "source": [
        "print(\"Character Sheet:\")\n",
        "display(character_sheet)"
      ],
      "metadata": {
        "colab": {
          "base_uri": "https://localhost:8080/",
          "height": 218
        },
        "id": "U9OwFJYoyUWs",
        "outputId": "8860bea6-12b4-4c84-b8f1-353e6a3a4d91"
      },
      "execution_count": null,
      "outputs": [
        {
          "output_type": "stream",
          "name": "stdout",
          "text": [
            "Character Sheet:\n"
          ]
        },
        {
          "output_type": "display_data",
          "data": {
            "text/plain": [
              "{'profile': {'name': 'Alistair the Brave',\n",
              "  'level': 1,\n",
              "  'health': 85,\n",
              "  'mana': 50,\n",
              "  'gold': 50.75,\n",
              "  'is_alive': True,\n",
              "  'experience': 0},\n",
              " 'inventory': ['sword', 'health', 'potion', 'mana potion'],\n",
              " 'stats': (10, 8, 12),\n",
              " 'quests': {'Defeat the Goblin King', 'Deliver the Old Scroll'}}"
            ]
          },
          "metadata": {}
        }
      ]
    }
  ]
}